{
 "cells": [
  {
   "cell_type": "code",
   "execution_count": 11,
   "metadata": {},
   "outputs": [],
   "source": [
    "from collections import defaultdict\n",
    "import itertools as itt\n",
    "from sys import stdout\n",
    "\n",
    "import numpy as np\n",
    "from numpy.polynomial.polynomial import Polynomial, polyfit\n",
    "from sympy import symbols\n",
    "import matplotlib.pyplot as plt\n",
    "from mpl_toolkits.mplot3d import Axes3D as _A  # imported for \"side effects\"\n",
    "\n",
    "import heisenberg"
   ]
  },
  {
   "cell_type": "markdown",
   "metadata": {},
   "source": [
    "# Relators I've found so far\n",
    "$$\n",
    "xy^2x y^{-1}x^{-2}y^{-1} = e  \\text{ (}xy\\text{ and }yx\\text{ commute)} \\\\\n",
    "xyx^{-1}y^{-1}xy^{-1}x^{-1}y = e  \\text{ (}xy^{-1}x^{-1}y = yxy^{-1}x^{-1}\\text{ commute)} \\\\\n",
    "$$"
   ]
  },
  {
   "cell_type": "markdown",
   "metadata": {},
   "source": [
    "[question_about_relators]: https://math.stackexchange.com/q/2272183\n",
    "[sage_heis_impl]: http://doc.sagemath.org/html/en/reference/groups/sage/groups/matrix_gps/heisenberg.html#sage.groups.matrix_gps.heisenberg.HeisenbergGroup\n",
    "[sage_heis_pres]: http://doc.sagemath.org/html/en/reference/groups/sage/groups/finitely_presented_named.html#sage.groups.finitely_presented_named.FinitelyGeneratedHeisenbergPresentation\n",
    "\n",
    "[This question][question_about_relators] claims (implicitly) that these are the only relations you need for the integer Heisenberg group:\n",
    "\n",
    "$$\n",
    "  [[x, y], x] = e\n",
    "  [[x, y], y] = e\n",
    "$$\n",
    "\n",
    "Also, Sage Math has a Heisenberg group implementation built in for Heisenberg over the integers. See the docs [here][sage_heis_impl].\n",
    "\n",
    "It also has a finite presentation of the Heisenberg group over the integers. See the docs [here][sage_heis_pres]."
   ]
  },
  {
   "cell_type": "markdown",
   "metadata": {},
   "source": [
    "# Experiments\n",
    "If we try all n-words in $x$ and $y$, which are the identity?"
   ]
  },
  {
   "cell_type": "code",
   "execution_count": 25,
   "metadata": {},
   "outputs": [],
   "source": [
    "def standardize_product(product):\n",
    "    \"\"\"\n",
    "    Given an n-word made of 3-tuples, put it in a standard form wrt. to the\n",
    "    Heisenberg operation.\n",
    "    \n",
    "    This basically just means moving all the atomically commutative bits to\n",
    "    the end, then sorting those commutative bits by \n",
    "    \n",
    "    This doesn't do anything fancy. For example, take (-1, 1, 5) * (1, -1, 3).\n",
    "    This commutes as a pair, because the product of this pair is something\n",
    "    that only has a z component (z = 5 + 3 + 1 = 9). This function WILL NOT\n",
    "    move this pair to the end, because it only looks at single items in the\n",
    "    product, not at products that might commute.\n",
    "    \"\"\"\n",
    "    noncommutative_part = []\n",
    "    commutative_part = []\n",
    "    for tup in product:\n",
    "        if tup[0] == tup[1] and tup[1] == 0:\n",
    "            commutative_part.append(tup)\n",
    "        else:\n",
    "            noncommutative_part.append(tup)\n",
    "    commutative_part.sort(key=lambda t: t[2])\n",
    "    return tuple(noncommutative_part + commutative_part)\n",
    "\n",
    "def get_inverse_combinations_map(S, n):\n",
    "    \"\"\"\n",
    "    Given a generating set S and a positive integer n, return a dict mapping\n",
    "    each point in P_n(S) to a list of the S-words whose Heisenberg sum is\n",
    "    that point.\n",
    "\n",
    "    Note that this is actually S-words modulo a weak kind of Heisenberg\n",
    "    equivalence -- if there are two S-words that differ by the position of\n",
    "    some commuting generators, then we don't care about the difference\n",
    "    between them, so they won't show up as distinct combinations in this map.\n",
    "    \n",
    "    For example, if S contains (0, 0, 0), then a point that comes from a\n",
    "    product that includes zero won't include in its combination list a\n",
    "    billion variations that are that same product, but with the (0, 0, 0) in\n",
    "    a slightly different place.\n",
    "    \"\"\"\n",
    "    if n <= 0:\n",
    "        return {}\n",
    "    inverted_combinations_map = defaultdict(set)\n",
    "    for product in itt.product(S, repeat=n):\n",
    "        # if this errors because product is an iterator and it ran out, then\n",
    "        # just save tuple(product) and pass it around.\n",
    "        image = tuple(heisenberg.vectuple_h3_sum(product))\n",
    "        tuplified_product = standardize_product(tuple(point) for point in product)\n",
    "        \n",
    "        items = inverted_combinations_map[image]\n",
    "        items.add(tuplified_product)\n",
    "    \n",
    "    return dict(inverted_combinations_map)\n",
    "\n",
    "def zero_word_images(S, n):\n",
    "    \"\"\"\n",
    "    Given S and n, generate images showing all combinations of P_n(S) that\n",
    "    are zero.\n",
    "    \"\"\"\n",
    "    # Compute colors for each point in the generating set S = S_1 \\cup S_2\n",
    "    generators = [\n",
    "        tuple(point) for point in S\n",
    "    ]\n",
    "    \n",
    "    S_combinations = get_inverse_combinations_map(S, n)\n",
    "\n",
    "    print(', '.join([str(generator) for generator in generators]))\n",
    "    plt.figure()\n",
    "    plt.title(\"Key\")\n",
    "    plt.xlabel(', '.join([str(generator) for generator in generators]))\n",
    "    plt.imshow(np.arange(len(generators)).reshape(1, -1))\n",
    "    \n",
    "    # Now for each point in the intersection, show the image.\n",
    "    print(\"Showing points that give 0!\")\n",
    "    zero_combinations = set()\n",
    "    \n",
    "    # Replace each combination with its index into the list of generators.\n",
    "    # By doing things this way, we can use a colormap to display the image.\n",
    "    for combination in S_combinations[(0, 0, 0)]:\n",
    "        replaced = tuple(generators.index(tuple(tup)) for tup in combination)\n",
    "        zero_combinations.add(replaced)\n",
    "\n",
    "    # Build the array of all different combinations whose image under the\n",
    "    # Heisenberg-operator-applying function is this point.\n",
    "    combinations_matrix = np.stack([\n",
    "        combination for combination in zero_combinations\n",
    "    ])\n",
    "    indices = np.lexsort(combinations_matrix.T)\n",
    "    nice_combinations_matrix = combinations_matrix[indices, :]\n",
    "    plt.figure()\n",
    "    plt.title(\"Combinations matrix for point t = {}\".format(point))\n",
    "    plt.imshow(nice_combinations_matrix)\n",
    "        "
   ]
  },
  {
   "cell_type": "code",
   "execution_count": 23,
   "metadata": {},
   "outputs": [],
   "source": [
    "S = [\n",
    "    np.array(( 1,  0, 0)),\n",
    "    np.array(( 0,  1, 0)),\n",
    "    np.array(( 0, -1, 0)),\n",
    "    np.array((-1,  0, 0)),\n",
    "]"
   ]
  },
  {
   "cell_type": "code",
   "execution_count": 31,
   "metadata": {},
   "outputs": [],
   "source": [
    "n = 4"
   ]
  },
  {
   "cell_type": "code",
   "execution_count": 32,
   "metadata": {
    "scrolled": false
   },
   "outputs": [
    {
     "name": "stdout",
     "output_type": "stream",
     "text": [
      "(1, 0, 0), (0, 1, 0), (0, -1, 0), (-1, 0, 0)\n",
      "Showing points that give 0!\n"
     ]
    },
    {
     "data": {
      "text/plain": [
       "<matplotlib.image.AxesImage at 0x211b2a04be0>"
      ]
     },
     "execution_count": 32,
     "metadata": {},
     "output_type": "execute_result"
    },
    {
     "data": {
      "image/png": "[encoded data removed]",
      "text/plain": [
       "<matplotlib.figure.Figure at 0x2121d442630>"
      ]
     },
     "metadata": {},
     "output_type": "display_data"
    },
    {
     "data": {
      "image/png": "[encoded data removed]",
      "text/plain": [
       "<matplotlib.figure.Figure at 0x2121d7087b8>"
      ]
     },
     "metadata": {},
     "output_type": "display_data"
    }
   ],
   "source": [
    "# Compute colors for each point in the generating set S = S_1 \\cup S_2\n",
    "generators = [\n",
    "    tuple(point) for point in S\n",
    "]\n",
    "\n",
    "S_combinations = get_inverse_combinations_map(S, n)\n",
    "\n",
    "print(', '.join([str(generator) for generator in generators]))\n",
    "plt.figure()\n",
    "plt.title(\"Key\")\n",
    "plt.xlabel(', '.join([str(generator) for generator in generators]))\n",
    "plt.imshow(np.arange(len(generators)).reshape(1, -1), cmap='seismic')\n",
    "\n",
    "# Now for each point in the intersection, show the image.\n",
    "print(\"Showing points that give 0!\")\n",
    "zero_combinations = set()\n",
    "\n",
    "# Replace each combination with its index into the list of generators.\n",
    "# By doing things this way, we can use a colormap to display the image.\n",
    "for combination in S_combinations[(0, 0, 0)]:\n",
    "    replaced = tuple(generators.index(tuple(tup)) for tup in combination)\n",
    "    zero_combinations.add(replaced)\n",
    "\n",
    "# Build the array of all different combinations whose image under the\n",
    "# Heisenberg-operator-applying function is this point.\n",
    "combinations_matrix = np.stack([\n",
    "    combination for combination in zero_combinations\n",
    "])\n",
    "indices = np.lexsort(combinations_matrix.T)\n",
    "nice_combinations_matrix = combinations_matrix[indices, :]\n",
    "plt.figure()\n",
    "plt.title(\"Combinations matrix for zero\")\n",
    "plt.imshow(nice_combinations_matrix, cmap='seismic')"
   ]
  },
  {
   "cell_type": "markdown",
   "metadata": {},
   "source": [
    "Well, that was useless."
   ]
  },
  {
   "cell_type": "code",
   "execution_count": null,
   "metadata": {},
   "outputs": [],
   "source": [
    "def get_inverse_combinations_free(k, n):\n",
    "    \"\"\"\n",
    "    Given a generating set S and a positive integer n, return a dict mapping\n",
    "    each point in P_n(S) to a list of the S-words whose Heisenberg sum is\n",
    "    that point.\n",
    "\n",
    "    Note that this is actually S-words modulo a weak kind of Heisenberg\n",
    "    equivalence -- if there are two S-words that differ by the position of\n",
    "    some commuting generators, then we don't care about the difference\n",
    "    between them, so they won't show up as distinct combinations in this map.\n",
    "    \n",
    "    For example, if S contains (0, 0, 0), then a point that comes from a\n",
    "    product that includes zero won't include in its combination list a\n",
    "    billion variations that are that same product, but with the (0, 0, 0) in\n",
    "    a slightly different place.\n",
    "    \"\"\"\n",
    "    if n <= 0:\n",
    "        return {}\n",
    "    inverted_combinations_map = defaultdict(set)\n",
    "    for product in itt.product(S, repeat=n):\n",
    "        # if this errors because product is an iterator and it ran out, then\n",
    "        # just save tuple(product) and pass it around.\n",
    "        image = tuple(np.sum(product))\n",
    "        tuplified_product = standardize_product(tuple(point) for point in product)\n",
    "        \n",
    "        items = inverted_combinations_map[image]\n",
    "        items.add(tuplified_product)\n",
    "    \n",
    "    return dict(inverted_combinations_map)"
   ]
  },
  {
   "cell_type": "code",
   "execution_count": null,
   "metadata": {},
   "outputs": [],
   "source": [
    "heisenberg."
   ]
  },
  {
   "cell_type": "code",
   "execution_count": null,
   "metadata": {},
   "outputs": [],
   "source": []
  }
 ],
 "metadata": {
  "kernelspec": {
   "display_name": "Python 3",
   "language": "python",
   "name": "python3"
  },
  "language_info": {
   "codemirror_mode": {
    "name": "ipython",
    "version": 3
   },
   "file_extension": ".py",
   "mimetype": "text/x-python",
   "name": "python",
   "nbconvert_exporter": "python",
   "pygments_lexer": "ipython3",
   "version": "3.6.4"
  }
 },
 "nbformat": 4,
 "nbformat_minor": 2
}
